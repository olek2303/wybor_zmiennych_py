{
 "nbformat": 4,
 "nbformat_minor": 0,
 "metadata": {
  "colab": {
   "provenance": [],
   "include_colab_link": true
  },
  "kernelspec": {
   "name": "python3",
   "language": "python",
   "display_name": "Python 3 (ipykernel)"
  },
  "language_info": {
   "name": "python"
  }
 },
 "cells": [
  {
   "cell_type": "markdown",
   "metadata": {
    "id": "view-in-github",
    "colab_type": "text"
   },
   "source": []
  },
  {
   "cell_type": "code",
   "execution_count": null,
   "outputs": [],
   "source": [
    "import pandas as pd \n",
    "import matplotlib.pyplot as plt\n",
    "import seaborn as sns\n",
    "from sklearn.preprocessing import LabelEncoder\n",
    "import statsmodels.api as sm"
   ],
   "metadata": {
    "collapsed": false
   }
  },
  {
   "cell_type": "markdown",
   "source": [
    "# 1. Wczytanie Danych"
   ],
   "metadata": {
    "id": "lMfzy5JAnGul"
   }
  },
  {
   "cell_type": "markdown",
   "source": [
    "## Zbiór imports-85.csv"
   ],
   "metadata": {
    "collapsed": false
   }
  },
  {
   "cell_type": "markdown",
   "source": [
    "Przy pomocy biblioteki pandas, wczytany zostanie zbiór imports-85.csv. "
   ],
   "metadata": {
    "collapsed": false
   }
  },
  {
   "cell_type": "code",
   "execution_count": null,
   "outputs": [],
   "source": [
    "imports = pd.read_csv(\"./datasets/imports-85.csv\")\n",
    "imports.info()"
   ],
   "metadata": {
    "collapsed": false
   }
  },
  {
   "cell_type": "markdown",
   "source": [
    "Po wypisaniu komendy imports.info() dowiadujemy się, że istnieje wiele kolumn, które nie są typu liczbowego."
   ],
   "metadata": {
    "collapsed": false
   }
  },
  {
   "cell_type": "code",
   "execution_count": null,
   "outputs": [],
   "source": [
    "label_encoder = LabelEncoder()\n",
    "for column in imports.columns:\n",
    "    if imports[column].dtype == 'object':\n",
    "        imports[column] = label_encoder.fit_transform(imports[column])\n",
    "\n",
    "imports.info()"
   ],
   "metadata": {
    "collapsed": false
   }
  },
  {
   "cell_type": "markdown",
   "source": [
    "Przy wykorzystaniu LabelEncoder z bibilioteki scikit-learn zmienilismy dane typu string na liczbowe."
   ],
   "metadata": {
    "collapsed": false
   }
  },
  {
   "cell_type": "code",
   "execution_count": null,
   "outputs": [],
   "source": [
    "imports_dr = imports.dropna()\n",
    "imports_dr.describe()"
   ],
   "metadata": {
    "collapsed": false
   }
  },
  {
   "cell_type": "markdown",
   "source": [
    "Powyżej zostały usunięte wszystkie rekordy ze zbioru danych zawierające wartości NaN."
   ],
   "metadata": {
    "collapsed": false
   }
  },
  {
   "cell_type": "code",
   "execution_count": null,
   "outputs": [],
   "source": [
    "imports_dr = imports_dr.drop('engine-location', axis=1)"
   ],
   "metadata": {
    "collapsed": false
   }
  },
  {
   "cell_type": "markdown",
   "source": [
    "Zauważyliśmy, że kolumna engine-location jest stała dla wszystkich rekordów. Postanowiliśmy ją usunąć."
   ],
   "metadata": {
    "collapsed": false
   }
  },
  {
   "cell_type": "code",
   "execution_count": null,
   "outputs": [],
   "source": [
    "plt.figure(figsize=(12,10))\n",
    "corr_matrix = imports_dr.corr()\n",
    "sns.heatmap(corr_matrix, annot=True, cmap='coolwarm', fmt='.1f', linewidths=.5)\n",
    "plt.title(\"Wykres korelacji\")\n",
    "plt.show()"
   ],
   "metadata": {
    "collapsed": false
   }
  },
  {
   "cell_type": "markdown",
   "source": [
    "# 2. Selekcja zmiennych"
   ],
   "metadata": {
    "collapsed": false
   }
  },
  {
   "cell_type": "code",
   "execution_count": null,
   "outputs": [],
   "source": [
    "m1 = sm.OLS(imports_dr['price'], sm.add_constant(imports_dr.drop('price', axis=1))).fit()\n",
    "print(m1.summary())"
   ],
   "metadata": {
    "collapsed": false
   }
  },
  {
   "cell_type": "markdown",
   "source": [
    "Powyżej został stworzony model względem zmiennej 'price'. R-suqared aktualnego modelu to 0.892. Adj. R-squared - 0.873"
   ],
   "metadata": {
    "collapsed": false
   }
  },
  {
   "cell_type": "code",
   "execution_count": null,
   "outputs": [],
   "source": [
    "m2 = sm.OLS(imports_dr['price'], sm.add_constant(imports_dr.drop(['price','length'], axis=1))).fit()\n",
    "print(m2.summary())"
   ],
   "metadata": {
    "collapsed": false
   }
  },
  {
   "cell_type": "markdown",
   "source": [
    "Teraz została usunięta zmienna length z wartością P-value na poziomie 0.905. R-squared - 0.892. Adj. R-squared - 0.874"
   ],
   "metadata": {
    "collapsed": false
   }
  },
  {
   "cell_type": "code",
   "execution_count": null,
   "outputs": [],
   "source": [
    "m3 = sm.OLS(imports_dr['price'], sm.add_constant(imports_dr.drop(['price', 'length', 'symboling'], axis=1))).fit()\n",
    "print(m3.summary())"
   ],
   "metadata": {
    "collapsed": false
   }
  },
  {
   "cell_type": "markdown",
   "source": [
    "Teraz została usunięta zmienna symboling z P-value - 0.710. R-squared - 0.892. Adj. R-squared - 0.874"
   ],
   "metadata": {
    "collapsed": false
   }
  },
  {
   "cell_type": "code",
   "execution_count": null,
   "outputs": [],
   "source": [
    "m4 = sm.OLS(imports_dr['price'], sm.add_constant(imports_dr.drop(['price', 'length', 'symboling', 'bore'], axis=1))).fit()\n",
    "print(m4.summary())"
   ],
   "metadata": {
    "collapsed": false
   }
  },
  {
   "cell_type": "markdown",
   "source": [
    "Została usunięta zmienna bore z P-value - 0.665. R-squared - 0.892. Adj. R-squared - 0.875"
   ],
   "metadata": {
    "collapsed": false
   }
  },
  {
   "cell_type": "code",
   "execution_count": null,
   "outputs": [],
   "source": [
    "m5 = sm.OLS(imports_dr['price'], sm.add_constant(imports_dr.drop(['price', 'length', 'symboling', 'bore', 'highway-mpg'], axis=1))).fit()\n",
    "print(m5.summary())"
   ],
   "metadata": {
    "collapsed": false
   }
  },
  {
   "cell_type": "markdown",
   "source": [
    "Została usunięta zmienna 'highway-mpg' z P-value 0.673. R-squared - 0.891. Adj. R-squared - 0.876"
   ],
   "metadata": {
    "collapsed": false
   }
  },
  {
   "cell_type": "code",
   "execution_count": null,
   "outputs": [],
   "source": [
    "m6 = sm.OLS(imports_dr['price'], sm.add_constant(imports_dr.drop(['price', 'length', 'symboling', 'bore', 'highway-mpg', 'peak-rpm'], axis=1))).fit()\n",
    "print(m6.summary())"
   ],
   "metadata": {
    "collapsed": false
   }
  },
  {
   "cell_type": "markdown",
   "source": [
    "Została usunięta zmienna 'peak-rpm' z P-value 0.701. R-squared - 0.891. Adj. R-squared - 0.877"
   ],
   "metadata": {
    "collapsed": false
   }
  },
  {
   "cell_type": "code",
   "execution_count": null,
   "outputs": [],
   "source": [
    "m7 = sm.OLS(imports_dr['price'], sm.add_constant(imports_dr.drop(['price', 'length', 'symboling', 'bore', 'highway-mpg', 'peak-rpm', 'wheel-base'], axis=1))).fit()\n",
    "print(m7.summary())"
   ],
   "metadata": {
    "collapsed": false
   }
  },
  {
   "cell_type": "markdown",
   "source": [
    "Została usunięta zmienna 'wheel-base' z P-value 0.494. R-squared - 0.891. Adj. R-squared - 0.877"
   ],
   "metadata": {
    "collapsed": false
   }
  },
  {
   "cell_type": "code",
   "execution_count": null,
   "outputs": [],
   "source": [
    "m8 = sm.OLS(imports_dr['price'], sm.add_constant(imports_dr.drop(['price', 'length', 'symboling', 'bore', 'highway-mpg', 'peak-rpm', 'wheel-base', 'city-mpg'], axis=1))).fit()\n",
    "print(m8.summary())"
   ],
   "metadata": {
    "collapsed": false
   }
  },
  {
   "cell_type": "markdown",
   "source": [
    "Została usunięta zmienna 'city-mpg' z P-value 0.533. R-squared - 0.891. Adj. R-squared - 0.878"
   ],
   "metadata": {
    "collapsed": false
   }
  },
  {
   "cell_type": "code",
   "execution_count": null,
   "outputs": [],
   "source": [
    "m9 = sm.OLS(imports_dr['price'], sm.add_constant(imports_dr.drop(['price', 'length', 'symboling', 'bore', 'highway-mpg', 'peak-rpm', 'wheel-base', 'city-mpg', 'normalized-losses'], axis=1))).fit()\n",
    "print(m9.summary())"
   ],
   "metadata": {
    "collapsed": false
   }
  },
  {
   "cell_type": "markdown",
   "source": [
    "Została usunięta zmienna 'normalized-losses' z P-value 0.427. R-squared - 0.890. Adj. R-squared - 0.878"
   ],
   "metadata": {
    "collapsed": false
   }
  },
  {
   "cell_type": "code",
   "execution_count": null,
   "outputs": [],
   "source": [
    "m10 = sm.OLS(imports_dr['price'], sm.add_constant(imports_dr.drop(['price', 'length', 'symboling', 'bore', 'highway-mpg', 'peak-rpm', 'wheel-base', 'city-mpg', 'normalized-losses', 'horsepower'], axis=1))).fit()\n",
    "print(m10.summary())"
   ],
   "metadata": {
    "collapsed": false
   }
  },
  {
   "cell_type": "markdown",
   "source": [
    "Została usunięta zmienna 'horsepower' z P-value 0.368. R-squared - 0.890. Adj. R-squared - 0.878"
   ],
   "metadata": {
    "collapsed": false
   }
  },
  {
   "cell_type": "code",
   "execution_count": null,
   "outputs": [],
   "source": [
    "m11 = sm.OLS(imports_dr['price'], sm.add_constant(imports_dr.drop(['price', 'length', 'symboling', 'bore', 'highway-mpg', 'peak-rpm', 'wheel-base', 'city-mpg', 'normalized-losses', 'horsepower', 'num-of-doors'], axis=1))).fit()\n",
    "print(m11.summary())"
   ],
   "metadata": {
    "collapsed": false
   }
  },
  {
   "cell_type": "markdown",
   "source": [
    "Została usunięta zmienna 'num-of-doors' z P-value 0.190. R-squared - 0.888. Adj. R-squared - 0.877"
   ],
   "metadata": {
    "collapsed": false
   }
  },
  {
   "cell_type": "code",
   "execution_count": null,
   "outputs": [],
   "source": [
    "m12 = sm.OLS(imports_dr['price'], sm.add_constant(imports_dr.drop(['price', 'length', 'symboling', 'bore', 'highway-mpg', 'peak-rpm', 'wheel-base', 'city-mpg', 'normalized-losses', 'horsepower', 'num-of-doors', 'engine-type'], axis=1))).fit()\n",
    "print(m12.summary())"
   ],
   "metadata": {
    "collapsed": false
   }
  },
  {
   "cell_type": "markdown",
   "source": [
    "Została usunięta zmienna 'engine-type' z P-value 0.189. R-squared - 0.887. Adj. R-squared - 0.877"
   ],
   "metadata": {
    "collapsed": false
   }
  },
  {
   "cell_type": "code",
   "execution_count": null,
   "outputs": [],
   "source": [
    "m13 = sm.OLS(imports_dr['price'], sm.add_constant(imports_dr.drop(['price', 'length', 'symboling', 'bore', 'highway-mpg', 'peak-rpm', 'wheel-base', 'city-mpg', 'normalized-losses', 'horsepower', 'num-of-doors', 'engine-type', 'engine-size'], axis=1))).fit()\n",
    "print(m13.summary())"
   ],
   "metadata": {
    "collapsed": false
   }
  },
  {
   "cell_type": "markdown",
   "source": [
    "Została usunięta zmienna 'engine-size' z P-value 0.194. R-squared - 0.886. Adj. R-squared - 0.876"
   ],
   "metadata": {
    "collapsed": false
   }
  },
  {
   "cell_type": "code",
   "execution_count": null,
   "outputs": [],
   "source": [
    "m14 = sm.OLS(imports_dr['price'], sm.add_constant(imports_dr.drop(['price', 'length', 'symboling', 'bore', 'highway-mpg', 'peak-rpm', 'wheel-base', 'city-mpg', 'normalized-losses', 'horsepower', 'num-of-doors', 'engine-type', 'engine-size', 'height'], axis=1))).fit()\n",
    "print(m14.summary())"
   ],
   "metadata": {
    "collapsed": false
   }
  },
  {
   "cell_type": "markdown",
   "source": [
    "Została usunięta zmienna 'height' z P-value 0.235. R-squared - 0.884. Adj. R-squared - 0.876"
   ],
   "metadata": {
    "collapsed": false
   }
  },
  {
   "cell_type": "code",
   "execution_count": null,
   "outputs": [],
   "source": [
    "m15 = sm.OLS(imports_dr['price'], sm.add_constant(imports_dr.drop(['price', 'length', 'symboling', 'bore', 'highway-mpg', 'peak-rpm', 'wheel-base', 'city-mpg', 'normalized-losses', 'horsepower', 'num-of-doors', 'engine-type', 'engine-size', 'height', 'body-style'], axis=1))).fit()\n",
    "print(m15.summary())"
   ],
   "metadata": {
    "collapsed": false
   }
  },
  {
   "cell_type": "markdown",
   "source": [
    "Została usunięta zmienna 'body-style' z P-value 0.159. R-squared - 0.883. Adj. R-squared - 0.875"
   ],
   "metadata": {
    "collapsed": false
   }
  },
  {
   "cell_type": "code",
   "execution_count": null,
   "outputs": [],
   "source": [
    "m16 = sm.OLS(imports_dr['price'], sm.add_constant(imports_dr.drop(['price', 'length', 'symboling', 'bore', 'highway-mpg', 'peak-rpm', 'wheel-base', 'city-mpg', 'normalized-losses', 'horsepower', 'num-of-doors', 'engine-type', 'engine-size', 'height', 'body-style', 'fuel-system'],axis=1))).fit()\n",
    "print(m16.summary())"
   ],
   "metadata": {
    "collapsed": false
   }
  },
  {
   "cell_type": "markdown",
   "source": [
    "Została usunięta zmienna 'fuel-system' z P-value 0.116. R-squared - 0.881. Adj. R-squared - 0.874"
   ],
   "metadata": {
    "collapsed": false
   }
  },
  {
   "cell_type": "markdown",
   "source": [
    "Wszystkie P-value są mniejsze od 0.1, więc w tym momencie kończymy usuwanie zmiennych dla tego modelu. "
   ],
   "metadata": {
    "collapsed": false
   }
  },
  {
   "cell_type": "code",
   "execution_count": null,
   "outputs": [],
   "source": [
    "print(\"R-squared dla modelu m1: \", m1.rsquared)\n",
    "print(\"R-squared adjusted dla modelu m1: \", m1.rsquared_adj)\n",
    "print(\"R-squared dla modelu m16: \", m16.rsquared)\n",
    "print(\"R-squared adjusted dla modelu m16: \", m16.rsquared_adj)"
   ],
   "metadata": {
    "collapsed": false
   }
  },
  {
   "cell_type": "markdown",
   "source": [
    "Powyżej widać, że R-squared zmniejszyło się znacząco, lecz R-squared adjusted lekko się zwiększyło. W tym wypadku model mniejszy (m16) powinien być lepszy od m1, lecz należy to sprawdzić testem-f."
   ],
   "metadata": {
    "collapsed": false
   }
  },
  {
   "cell_type": "markdown",
   "source": [
    "Do f-testu mamy dwie hipotezy:"
   ],
   "metadata": {
    "collapsed": false
   }
  },
  {
   "cell_type": "markdown",
   "source": [
    "H0: modele są podobne"
   ],
   "metadata": {
    "collapsed": false
   }
  },
  {
   "cell_type": "markdown",
   "source": [
    "H1: istnieje istotna różnica pomiędzy modelami"
   ],
   "metadata": {
    "collapsed": false
   }
  },
  {
   "cell_type": "code",
   "execution_count": null,
   "outputs": [],
   "source": [
    "f,p_value,_ = m1.compare_f_test(m16)\n",
    "print(p_value)"
   ],
   "metadata": {
    "collapsed": false
   }
  },
  {
   "cell_type": "markdown",
   "source": [
    "Jeżeli p-value < 0.05 wtedy odrzucamy h0. W naszym przypadku p-value jest większe. Z tego względu nie możemy odrzucić h0, czyli model mniejszy przewiduje podobnie dobrze jak model większy, ale ma mniej zmiennych, czyli powinien liczyć szybciej."
   ],
   "metadata": {
    "collapsed": false
   }
  },
  {
   "cell_type": "markdown",
   "source": [
    "Do porównania p-value obu modeli użyliśmy testu-f, który działa na takiej samej zasadzie jak test ANOVA (w tym przypadku). (https://en.wikipedia.org/wiki/F-test)"
   ],
   "metadata": {
    "collapsed": false
   }
  },
  {
   "cell_type": "code",
   "execution_count": null,
   "outputs": [],
   "source": [],
   "metadata": {
    "collapsed": false
   }
  }
 ]
}
